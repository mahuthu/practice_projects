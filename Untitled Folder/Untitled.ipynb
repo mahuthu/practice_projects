{
 "cells": [
  {
   "cell_type": "code",
   "execution_count": null,
   "metadata": {},
   "outputs": [],
   "source": [
    "def solve(numlegs,numheads):\n",
    "     for numchicks in range (0,numheads + 1):\n",
    "        numpigs = numheads - numchicks\n",
    "        totlegs = 4*numpigs + 2*numchicks\n",
    "        if totlegs == numlegs:\n",
    "            return(numpigs,numchicks)\n",
    "\n",
    "     return(None,None)\n",
    "\n",
    "def barnyard():\n",
    "    heads = input(\"enter no of heads\")\n",
    "    legs = input(\"enter no of legs\")\n",
    "    pigs, chickens = solve(legs, heads)\n",
    "    if pigs == None:\n",
    "        print (\"there is no solution\")\n",
    "    else:\n",
    "        print (\"number of pigs\",pigs)\n",
    "        print (\"number of chickens\",chickens)\n",
    "        \n",
    "barnyard()\n",
    "            "
   ]
  },
  {
   "cell_type": "code",
   "execution_count": 35,
   "metadata": {},
   "outputs": [],
   "source": [
    "\n",
    "\n",
    "def salary_increase():\n",
    "        salary = int(raw_input(\"Enter salary: \"))\n",
    "        if salary > 5000:\n",
    "           new_salary = salary*0.4 + salary\n",
    "        else:\n",
    "            new_salary = salary*0.5 + salary\n",
    "\n",
    "            print(\"new salary:\",new_salary)\n"
   ]
  },
  {
   "cell_type": "code",
   "execution_count": null,
   "metadata": {},
   "outputs": [],
   "source": []
  },
  {
   "cell_type": "code",
   "execution_count": null,
   "metadata": {},
   "outputs": [],
   "source": []
  },
  {
   "cell_type": "code",
   "execution_count": null,
   "metadata": {},
   "outputs": [],
   "source": []
  }
 ],
 "metadata": {
  "kernelspec": {
   "display_name": "Python 3",
   "language": "python",
   "name": "python3"
  },
  "language_info": {
   "codemirror_mode": {
    "name": "ipython",
    "version": 3
   },
   "file_extension": ".py",
   "mimetype": "text/x-python",
   "name": "python",
   "nbconvert_exporter": "python",
   "pygments_lexer": "ipython3",
   "version": "3.7.6"
  }
 },
 "nbformat": 4,
 "nbformat_minor": 4
}
