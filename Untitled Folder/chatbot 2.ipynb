{
 "cells": [
  {
   "cell_type": "code",
   "execution_count": null,
   "metadata": {},
   "outputs": [
    {
     "name": "stdout",
     "output_type": "stream",
     "text": [
      "Hi,I sell mobile phones ;)\n",
      " how can i assist you.  \n",
      ">what are the specifications on iphone\n",
      "None\n",
      ">what are the specifications of iphone\n",
      "5.5 inch display \n",
      " 12 mp front camera \n",
      " 16 mp rear camera \n",
      " 2gb ram \n",
      " fingerprint sensor\n",
      ">what is the price of iphone\n",
      "30000\n",
      ">what is your name\n",
      "my name is electronica\n",
      "how can i help?\n"
     ]
    }
   ],
   "source": [
    "from nltk.chat.util import Chat, reflections\n",
    "pairs = [\n",
    "    [\n",
    "        r\"what is your name\",\n",
    "        [\"my name is electronica\\nhow can i help?\",]\n",
    "            \n",
    "    ],\n",
    "    [\n",
    "        r\"i need a new phone\",\n",
    "        [\"you can purchase any depending on your specifications\\n ask me anything about any phone\",]\n",
    "        \n",
    "    ],\n",
    "    [\n",
    "        r\"what brands are available\",\n",
    "        [\"we have various brands such as samsung, nokia, iphone, tecno, huawei\",]\n",
    "    ],\n",
    "    [\n",
    "         r\"what are the specifications on samsung\",\n",
    "        [\"5 inch display \\n 24 mp front camera \\n 30 mp rear camera \\n 4gb ram \\n fingerprint sensor\",]\n",
    "    ],\n",
    "    [\n",
    "        r\"what is the price of samsung?\",\n",
    "        [\"20000\",]\n",
    "        \n",
    "    ],\n",
    "    [\n",
    "        r\"what are the specifications of nokia?\",\n",
    "        [\"6 inch display \\n 20 mp front camera \\n 24 mp rear camera \\n 4gb ram \\n fingerprint sensor\",]\n",
    "    ],\n",
    "    [\n",
    "        r\"what is the price of nokia\",\n",
    "        [\"15000\",]\n",
    "    ],\n",
    "    [\n",
    "        r\"what are the specifications of iphone\",\n",
    "        [\"5.5 inch display \\n 12 mp front camera \\n 16 mp rear camera \\n 2gb ram \\n fingerprint sensor\",]\n",
    "    ],\n",
    "    [\n",
    "        r\"what is the price of iphone\",\n",
    "        [\"30000\",]\n",
    "    ],\n",
    "    ]\n",
    "        \n",
    "def  assistant():\n",
    " print(\"Hi,I sell mobile phones ;)\\n how can i assist you.  \") \n",
    " chat = Chat(pairs, reflections)\n",
    " chat.converse()\n",
    "if __name__ == \"__main__\":\n",
    "      assistant()\n",
    "    "
   ]
  },
  {
   "cell_type": "code",
   "execution_count": null,
   "metadata": {},
   "outputs": [],
   "source": []
  },
  {
   "cell_type": "code",
   "execution_count": null,
   "metadata": {},
   "outputs": [],
   "source": []
  }
 ],
 "metadata": {
  "kernelspec": {
   "display_name": "Python 3",
   "language": "python",
   "name": "python3"
  },
  "language_info": {
   "codemirror_mode": {
    "name": "ipython",
    "version": 3
   },
   "file_extension": ".py",
   "mimetype": "text/x-python",
   "name": "python",
   "nbconvert_exporter": "python",
   "pygments_lexer": "ipython3",
   "version": "3.7.6"
  }
 },
 "nbformat": 4,
 "nbformat_minor": 4
}
